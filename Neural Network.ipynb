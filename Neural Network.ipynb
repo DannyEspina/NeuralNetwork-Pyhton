{
 "cells": [
  {
   "cell_type": "code",
   "execution_count": 13,
   "metadata": {
    "collapsed": true
   },
   "outputs": [],
   "source": [
    "# neural network class definition\n",
    "class neuralNetwork:\n",
    "    # initialize the neural network\n",
    "    def __init__(self, inputnodes, hiddennodes, outputnodes, learningrate):\n",
    "        # set number of nodes in each input, hidden, output layer\n",
    "        self.inodes = inputnodes\n",
    "        self.hnodes = hiddennodes\n",
    "        self.onodes = outputnodes\n",
    "        \n",
    "        # learning rate\n",
    "        self.lr = learningrate\n",
    "        '''\n",
    "        link weight matrices, wih and who(weight links input to hidden, weight links hidden \n",
    "        to output). weights inside the arrays are w_i_j, where link is from node i to nod j \n",
    "        in the next layer.\n",
    "        \n",
    "        One way is using random number generator from ranges -0.5 to 0.5\n",
    "        \n",
    "        self.wih = (numpy.random.rand(self.hnodes, self.inodes)-0.5)\n",
    "        self.who = (numpy.random.rand(self.onodes, self.hnodes)-0.5)\n",
    "        \n",
    "        Another way is to use the normal distribution cruve to apply the rule of thumb that the \n",
    "        range of intialweights should decrease as the number of links into a node increases. \n",
    "        This way a overly large initial weight won't bias the activation function in a bias \n",
    "        direction. This function will create a normal distribution curve with values with a \n",
    "        standard deviation of 1/sqrt(number of incoming links). Meaning the average distance of \n",
    "        each value to the center (0.0) should be 1/sqrt(number of incoming links). As the number\n",
    "        of links into a node increase the average distance of each value to the center decreases. \n",
    "        In other words the range will get smaller. \n",
    "\n",
    "        numpy.random.normal(centre of distribution, standard deviation, size of numpy array)\n",
    "        \n",
    "        input->hidden->output\n",
    "        \n",
    "        where...\n",
    "        \n",
    "        centre of distribution - 0.0\n",
    "        standard deviation - 1/sqrt(number of incoming links) or (number of incoming links)^-0.5\n",
    "        size of numpy array - \n",
    "        (number of hidden nodes, number of input nodes) \n",
    "        or \n",
    "        (number of output nodes, number of hidden nodes)\n",
    "        '''\n",
    "        self.wih = numpy.random.normal(0.0, pow(self.hnodes, -0.5),(self.hnodes, self.inodes))\n",
    "        self.who = numpy.random.normal(0.0, pow(self.hnodes, -0.5),(self.onodes, self.hnodes))\n",
    "        pass\n",
    "    \n",
    "    # train the neural network\n",
    "    def train():\n",
    "        pass\n",
    "    \n",
    "    # query the neural network\n",
    "    def query():\n",
    "        pass"
   ]
  },
  {
   "cell_type": "code",
   "execution_count": 13,
   "metadata": {
    "collapsed": true
   },
   "outputs": [],
   "source": [
    "# number of input, hidden and output nodes\n",
    "input_nodes = 3\n",
    "hidden_nodes = 3\n",
    "output_nodes = 3\n",
    "\n",
    "#learning rate is 0.3\n",
    "learning_rate = 0.3\n",
    "\n",
    "# create instance of neural network\n",
    "n = neuralNetwork(input_nodes,hidden_nodes,output_nodes,learning_rate)"
   ]
  },
  {
   "cell_type": "code",
   "execution_count": 1,
   "metadata": {
    "collapsed": true
   },
   "outputs": [],
   "source": [
    "import numpy"
   ]
  },
  {
   "cell_type": "code",
   "execution_count": 12,
   "metadata": {},
   "outputs": [
    {
     "data": {
      "text/plain": [
       "array([[-0.32802717,  0.41067079, -0.58254081],\n",
       "       [ 0.47753499,  0.42328726, -0.57529493],\n",
       "       [ 0.09660271, -0.02894772, -0.12377656]])"
      ]
     },
     "execution_count": 12,
     "metadata": {},
     "output_type": "execute_result"
    }
   ],
   "source": [
    "numpy.random.normal(0,0.5,(3,3))"
   ]
  },
  {
   "cell_type": "code",
   "execution_count": null,
   "metadata": {
    "collapsed": true
   },
   "outputs": [],
   "source": []
  }
 ],
 "metadata": {
  "kernelspec": {
   "display_name": "Python 3",
   "language": "python",
   "name": "python3"
  },
  "language_info": {
   "codemirror_mode": {
    "name": "ipython",
    "version": 3
   },
   "file_extension": ".py",
   "mimetype": "text/x-python",
   "name": "python",
   "nbconvert_exporter": "python",
   "pygments_lexer": "ipython3",
   "version": "3.6.1"
  }
 },
 "nbformat": 4,
 "nbformat_minor": 2
}
